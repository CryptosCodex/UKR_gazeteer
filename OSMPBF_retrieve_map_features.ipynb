{
 "cells": [
  {
   "cell_type": "code",
   "execution_count": 1,
   "id": "1ab3e6e8-095c-4d99-a96d-11ffecec766d",
   "metadata": {},
   "outputs": [
    {
     "name": "stderr",
     "output_type": "stream",
     "text": [
      "C:\\Users\\Machine2\\anaconda3\\envs\\py38gis\\lib\\site-packages\\pyproj\\__init__.py:89: UserWarning: pyproj unable to set database path.\n",
      "  _pyproj_global_context_initialize()\n"
     ]
    },
    {
     "ename": "TypeError",
     "evalue": "C function cykhash.khashsets.Int64Set_from_buffer has wrong signature (expected PyObject *(__Pyx_memviewslice, int __pyx_skip_dispatch, struct __pyx_opt_args_7cykhash_9khashsets_Int64Set_from_buffer *__pyx_optional_args), got struct __pyx_obj_7cykhash_9khashsets_Int64Set *(__Pyx_memviewslice, int __pyx_skip_dispatch, struct __pyx_opt_args_7cykhash_9khashsets_Int64Set_from_buffer *__pyx_optional_args))",
     "output_type": "error",
     "traceback": [
      "\u001b[1;31m---------------------------------------------------------------------------\u001b[0m",
      "\u001b[1;31mTypeError\u001b[0m                                 Traceback (most recent call last)",
      "Input \u001b[1;32mIn [1]\u001b[0m, in \u001b[0;36m<cell line: 1>\u001b[1;34m()\u001b[0m\n\u001b[1;32m----> 1\u001b[0m \u001b[38;5;28;01mimport\u001b[39;00m \u001b[38;5;21;01mpyrosm\u001b[39;00m\n\u001b[0;32m      2\u001b[0m \u001b[38;5;28;01mfrom\u001b[39;00m \u001b[38;5;21;01mpyrosm\u001b[39;00m \u001b[38;5;28;01mimport\u001b[39;00m get_data\n",
      "File \u001b[1;32m~\\anaconda3\\envs\\py38gis\\lib\\site-packages\\pyrosm\\__init__.py:2\u001b[0m, in \u001b[0;36m<module>\u001b[1;34m\u001b[0m\n\u001b[0;32m      1\u001b[0m \u001b[38;5;28;01mfrom\u001b[39;00m \u001b[38;5;21;01mpyrosm\u001b[39;00m\u001b[38;5;21;01m.\u001b[39;00m\u001b[38;5;21;01mdata\u001b[39;00m \u001b[38;5;28;01mimport\u001b[39;00m get_data, get_path  \u001b[38;5;66;03m# drop get_path in the future\u001b[39;00m\n\u001b[1;32m----> 2\u001b[0m \u001b[38;5;28;01mfrom\u001b[39;00m \u001b[38;5;21;01mpyrosm\u001b[39;00m\u001b[38;5;21;01m.\u001b[39;00m\u001b[38;5;21;01mpyrosm\u001b[39;00m \u001b[38;5;28;01mimport\u001b[39;00m OSM\n",
      "File \u001b[1;32m~\\anaconda3\\envs\\py38gis\\lib\\site-packages\\pyrosm\\pyrosm.py:3\u001b[0m, in \u001b[0;36m<module>\u001b[1;34m\u001b[0m\n\u001b[0;32m      1\u001b[0m \u001b[38;5;28;01mimport\u001b[39;00m \u001b[38;5;21;01mnumpy\u001b[39;00m \u001b[38;5;28;01mas\u001b[39;00m \u001b[38;5;21;01mnp\u001b[39;00m\n\u001b[0;32m      2\u001b[0m \u001b[38;5;28;01mfrom\u001b[39;00m \u001b[38;5;21;01mpyrosm\u001b[39;00m\u001b[38;5;21;01m.\u001b[39;00m\u001b[38;5;21;01mconfig\u001b[39;00m \u001b[38;5;28;01mimport\u001b[39;00m Conf\n\u001b[1;32m----> 3\u001b[0m \u001b[38;5;28;01mfrom\u001b[39;00m \u001b[38;5;21;01mpyrosm\u001b[39;00m\u001b[38;5;21;01m.\u001b[39;00m\u001b[38;5;21;01mpbfreader\u001b[39;00m \u001b[38;5;28;01mimport\u001b[39;00m parse_osm_data\n\u001b[0;32m      4\u001b[0m \u001b[38;5;28;01mfrom\u001b[39;00m \u001b[38;5;21;01mpyrosm\u001b[39;00m\u001b[38;5;21;01m.\u001b[39;00m\u001b[38;5;21;01m_arrays\u001b[39;00m \u001b[38;5;28;01mimport\u001b[39;00m concatenate_dicts_of_arrays\n\u001b[0;32m      5\u001b[0m \u001b[38;5;28;01mfrom\u001b[39;00m \u001b[38;5;21;01mpyrosm\u001b[39;00m\u001b[38;5;21;01m.\u001b[39;00m\u001b[38;5;21;01mgeometry\u001b[39;00m \u001b[38;5;28;01mimport\u001b[39;00m create_node_coordinates_lookup\n",
      "File \u001b[1;32m~\\anaconda3\\envs\\py38gis\\lib\\site-packages\\pyrosm\\pbfreader.pyx:1\u001b[0m, in \u001b[0;36minit pyrosm.pbfreader\u001b[1;34m()\u001b[0m\n",
      "File \u001b[1;32m~\\anaconda3\\envs\\py38gis\\lib\\site-packages\\pyrosm\\data_filter.pyx:1\u001b[0m, in \u001b[0;36minit pyrosm.data_filter\u001b[1;34m()\u001b[0m\n",
      "\u001b[1;31mTypeError\u001b[0m: C function cykhash.khashsets.Int64Set_from_buffer has wrong signature (expected PyObject *(__Pyx_memviewslice, int __pyx_skip_dispatch, struct __pyx_opt_args_7cykhash_9khashsets_Int64Set_from_buffer *__pyx_optional_args), got struct __pyx_obj_7cykhash_9khashsets_Int64Set *(__Pyx_memviewslice, int __pyx_skip_dispatch, struct __pyx_opt_args_7cykhash_9khashsets_Int64Set_from_buffer *__pyx_optional_args))"
     ]
    }
   ],
   "source": [
    "import pyrosm\n",
    "from pyrosm import get_data\n",
    "# Download data for the city of [name country or city] (check http://download.geofabrik.de/ for regions and countries OR https://download.bbbike.org/osm/bbbike/ for cities)\n",
    "# Download the data into specified directory\n",
    "# fp = get_data(\"Brussels\", directory=\"data\")\n",
    "# print(\"Data was downloaded to:\", fp)"
   ]
  },
  {
   "cell_type": "code",
   "execution_count": null,
   "id": "9b76b02c-9eaf-4c91-90e4-85d650acf359",
   "metadata": {},
   "outputs": [],
   "source": [
    "print(sources.africa.available)"
   ]
  },
  {
   "cell_type": "code",
   "execution_count": null,
   "id": "8640eb11-aebd-4be5-a194-0f294d261eeb",
   "metadata": {},
   "outputs": [],
   "source": []
  }
 ],
 "metadata": {
  "kernelspec": {
   "display_name": "Python 3 (ipykernel)",
   "language": "python",
   "name": "python3"
  },
  "language_info": {
   "codemirror_mode": {
    "name": "ipython",
    "version": 3
   },
   "file_extension": ".py",
   "mimetype": "text/x-python",
   "name": "python",
   "nbconvert_exporter": "python",
   "pygments_lexer": "ipython3",
   "version": "3.8.12"
  }
 },
 "nbformat": 4,
 "nbformat_minor": 5
}
