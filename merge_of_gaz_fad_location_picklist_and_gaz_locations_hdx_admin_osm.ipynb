{
 "cells": [
  {
   "cell_type": "code",
   "execution_count": 1,
   "id": "9cc63ff8-8c99-4b03-9b80-148b16299a77",
   "metadata": {},
   "outputs": [],
   "source": [
    "from pyproj import crs\n",
    "import pandas as pd\n",
    "import geopandas as gpd\n",
    "from shapely.geometry import Point, LineString, Polygon\n",
    "import matplotlib.pyplot as plt\n",
    "import folium\n",
    "import os"
   ]
  },
  {
   "cell_type": "code",
   "execution_count": 2,
   "id": "76cbb501-2d48-47ba-81d6-f50342f2f08a",
   "metadata": {},
   "outputs": [],
   "source": [
    "# path UKR - Gazetteer of locations for FAD - 19052022.XLSX\n",
    "fp = r'UKR_data_sources/UKR_gazeteer/UKR - Gazetteer of locations for FAD - 19052022.XLSX'\n",
    "\n",
    "# read HDX admin 4 polygon shapefile into a geodataframe\n",
    "df_fad_gaz = pd.read_excel(fp, dtype=object)"
   ]
  },
  {
   "cell_type": "code",
   "execution_count": 3,
   "id": "a01fded7-fc06-49d3-93e2-7ffa23346485",
   "metadata": {},
   "outputs": [],
   "source": [
    "# UKR - Locations pick list values for FAD - 27052022.XLSX\n",
    "fp = r'UKR_data_sources/UKR_gazeteer/UKR - Locations pick list values for FAD - 27052022.XLSX'\n",
    "\n",
    "# read HDX admin 4 polygon shapefile into a geodataframe\n",
    "df_fad_picklist = pd.read_excel(fp, dtype=object)"
   ]
  },
  {
   "cell_type": "code",
   "execution_count": 4,
   "id": "45289c22-869a-492e-a25e-58e2a43936d1",
   "metadata": {
    "tags": []
   },
   "outputs": [
    {
     "name": "stderr",
     "output_type": "stream",
     "text": [
      "C:\\Users\\Billen\\Anaconda3\\envs\\py38_gis\\lib\\site-packages\\pandas\\core\\dtypes\\cast.py:122: ShapelyDeprecationWarning: The array interface is deprecated and will no longer work in Shapely 2.0. Convert the '.coords' to a numpy array instead.\n",
      "  arr = construct_1d_object_array_from_listlike(values)\n",
      "C:\\Users\\Billen\\Anaconda3\\envs\\py38_gis\\lib\\site-packages\\pandas\\core\\dtypes\\cast.py:122: ShapelyDeprecationWarning: The array interface is deprecated and will no longer work in Shapely 2.0. Convert the '.coords' to a numpy array instead.\n",
      "  arr = construct_1d_object_array_from_listlike(values)\n"
     ]
    }
   ],
   "source": [
    "# DEFINE GEOMETRY\n",
    "# create a geodataframe from the iBase gazetteer\n",
    "\n",
    "# Define a function for creating points from row values\n",
    "def create_point(row):\n",
    "    # Returns a shapely point object based on values in x and y columns\n",
    "\n",
    "    point = Point(row['lon'], row['lat'])\n",
    "\n",
    "    return point\n",
    "\n",
    "# Apply the function to each row\n",
    "df_fad_gaz['geometry'] = df_fad_gaz.apply(create_point, axis=1)\n",
    "df_fad_picklist['geometry'] = df_fad_picklist.apply(create_point, axis=1)"
   ]
  },
  {
   "cell_type": "code",
   "execution_count": 5,
   "id": "aeffe0af-22b8-40f3-985e-af0f4fb0f478",
   "metadata": {
    "tags": []
   },
   "outputs": [],
   "source": [
    "# IBASE_GAZ DATAFRAME\n",
    "# Convert IBASE_GAZ DataFrame into a GeoDataFrame\n",
    "geo_fad_gaz = gpd.GeoDataFrame(df_fad_gaz, geometry='geometry', crs=\"EPSG:4326\")\n",
    "geo_fad_picklist = gpd.GeoDataFrame(df_fad_picklist, geometry='geometry', crs=\"EPSG:4326\")"
   ]
  },
  {
   "cell_type": "code",
   "execution_count": 13,
   "id": "8ee4c485-70d2-472e-b77b-df8872dbd32d",
   "metadata": {},
   "outputs": [
    {
     "data": {
      "text/plain": [
       "Index(['Name', '[Country (Admin Level 1)]', '[Country (Admin Level 2)]',\n",
       "       '[Country (Admin Level 3)]', '[Country (Admin Level 4)]',\n",
       "       '[Country (Admin Level 5)]', 'lat', 'lon', 'geometry'],\n",
       "      dtype='object')"
      ]
     },
     "execution_count": 13,
     "metadata": {},
     "output_type": "execute_result"
    }
   ],
   "source": [
    "geo_fad_picklist.columns"
   ]
  },
  {
   "cell_type": "code",
   "execution_count": 20,
   "id": "223c6109-e003-489a-a892-8bcca032bceb",
   "metadata": {},
   "outputs": [],
   "source": [
    "columns = ['Name', '[Country (Admin Level 1)]', '[Country (Admin Level 2)]',\n",
    "           '[Country (Admin Level 3)]', '[Country (Admin Level 4)]',\n",
    "           '[Country (Admin Level 5)]', 'geometry']"
   ]
  },
  {
   "cell_type": "code",
   "execution_count": 21,
   "id": "73c288b6-ae63-4427-9d48-15975b837ae8",
   "metadata": {},
   "outputs": [],
   "source": [
    "geo_fad_picklist = geo_fad_picklist[columns]"
   ]
  },
  {
   "cell_type": "code",
   "execution_count": 22,
   "id": "ad60cda1-710b-48fa-a603-e01167950d6b",
   "metadata": {},
   "outputs": [
    {
     "data": {
      "text/plain": [
       "Index(['Name', '[Country (Admin Level 1)]', '[Country (Admin Level 2)]',\n",
       "       '[Country (Admin Level 3)]', '[Country (Admin Level 4)]',\n",
       "       '[Country (Admin Level 5)]', 'geometry'],\n",
       "      dtype='object')"
      ]
     },
     "execution_count": 22,
     "metadata": {},
     "output_type": "execute_result"
    }
   ],
   "source": [
    "geo_fad_picklist.columns"
   ]
  },
  {
   "cell_type": "code",
   "execution_count": 23,
   "id": "7c64b34b-692f-496a-a0ee-420d1c89f5c2",
   "metadata": {},
   "outputs": [],
   "source": [
    "geo_gaz_merge = pd.merge(geo_fad_gaz, geo_fad_picklist, on = 'geometry', how = 'right') "
   ]
  },
  {
   "cell_type": "code",
   "execution_count": 24,
   "id": "a79b34a3-b9f3-4772-bfee-94eafd7989ab",
   "metadata": {},
   "outputs": [
    {
     "data": {
      "text/plain": [
       "29585"
      ]
     },
     "execution_count": 24,
     "metadata": {},
     "output_type": "execute_result"
    }
   ],
   "source": [
    "len(geo_fad_picklist)"
   ]
  },
  {
   "cell_type": "code",
   "execution_count": 25,
   "id": "57823302-64e6-4b5d-b7e0-8f29bcdd2f7a",
   "metadata": {},
   "outputs": [
    {
     "data": {
      "text/plain": [
       "Index(['FID', 'FID_', 'OBJECTID', 'Join_Count', 'TARGET_FID', 'Shape_Leng',\n",
       "       'ADM4_EN', 'ADM4_UA', 'ADM4_RU', 'ADM4_PCODE', 'ADM3_EN', 'ADM3_UA',\n",
       "       'ADM3_RU', 'ADM3_PCODE', 'ADM2_EN', 'ADM2_UA', 'ADM2_RU', 'ADM2_PCODE',\n",
       "       'ADM1_EN', 'ADM1_UA', 'ADM1_RU', 'ADM1_PCODE', 'ADM0_EN', 'ADM0_UA',\n",
       "       'ADM0_RU', 'ADM0_PCODE', 'lat', 'lon', 'osm_id', 'alt_name',\n",
       "       'alt_name_e', 'place', 'population', 'postal_cod', 'Shape_Le_1',\n",
       "       'Shape_Area', 'geometry', 'Name', '[Country (Admin Level 1)]',\n",
       "       '[Country (Admin Level 2)]', '[Country (Admin Level 3)]',\n",
       "       '[Country (Admin Level 4)]', '[Country (Admin Level 5)]'],\n",
       "      dtype='object')"
      ]
     },
     "execution_count": 25,
     "metadata": {},
     "output_type": "execute_result"
    }
   ],
   "source": [
    "geo_gaz_merge.columns"
   ]
  },
  {
   "cell_type": "code",
   "execution_count": 26,
   "id": "730a136d-7162-44ca-80a1-2e4cb0a8776d",
   "metadata": {},
   "outputs": [],
   "source": [
    "# Define filenames\n",
    "filename_xlsx='UKR - Merge of Locations pick list values for FAD and Gazetteer of locations' + '.xlsx'\n",
    "\n",
    "# Create a output path for the data\n",
    "output_folder = r'UKR_data_sources/UKR_gazeteer/'\n",
    "\n",
    "output_fp = os.path.join(output_folder, filename_xlsx)\n",
    "geo_gaz_merge.to_excel(output_fp, encoding='utf8')"
   ]
  },
  {
   "cell_type": "code",
   "execution_count": null,
   "id": "0ae6ea44-ae1d-4852-a4b1-17f8fa21d18e",
   "metadata": {},
   "outputs": [],
   "source": []
  }
 ],
 "metadata": {
  "kernelspec": {
   "display_name": "Python 3 (ipykernel)",
   "language": "python",
   "name": "python3"
  },
  "language_info": {
   "codemirror_mode": {
    "name": "ipython",
    "version": 3
   },
   "file_extension": ".py",
   "mimetype": "text/x-python",
   "name": "python",
   "nbconvert_exporter": "python",
   "pygments_lexer": "ipython3",
   "version": "3.8.12"
  }
 },
 "nbformat": 4,
 "nbformat_minor": 5
}
